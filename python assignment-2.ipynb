{
 "cells": [
  {
   "cell_type": "markdown",
   "metadata": {},
   "source": [
    "# Task-1"
   ]
  },
  {
   "cell_type": "markdown",
   "metadata": {},
   "source": [
    "1.1 Write a Python Program to implement your own myreduce() function which works exactly like Python's built-in function reduce() ."
   ]
  },
  {
   "cell_type": "code",
   "execution_count": 1,
   "metadata": {},
   "outputs": [
    {
     "name": "stdout",
     "output_type": "stream",
     "text": [
      "myreduce get sum of elements of lists  32\n",
      "myreduce perform  on string  kshitizkumar\n"
     ]
    }
   ],
   "source": [
    "def myreduce(func,lst):\n",
    "    \n",
    "    try:\n",
    "        it = iter(lst)\n",
    "    except TypeError:\n",
    "        print(\"The input {} is not iteratable\".format(lst))\n",
    "        return None\n",
    "    result = next(it)\n",
    "    for val in it:\n",
    "        result = func(result, val)\n",
    "    return result\n",
    "l = [8,5,6,4,9]\n",
    "s = [\"kshitiz\", \"kumar\"]\n",
    "print(\"myreduce get sum of elements of lists \", myreduce(lambda x,y:x+y, l))\n",
    "\n",
    "print(\"myreduce perform  on string \",myreduce(lambda x,y:x+y, s))\n",
    "    "
   ]
  },
  {
   "cell_type": "markdown",
   "metadata": {},
   "source": [
    "1.2 Write a Python program to implement your own myfilter() function which works exactly like Python's built-in function filter() "
   ]
  },
  {
   "cell_type": "code",
   "execution_count": 2,
   "metadata": {},
   "outputs": [
    {
     "name": "stdout",
     "output_type": "stream",
     "text": [
      "2\n",
      "4\n",
      "8\n",
      "54\n"
     ]
    }
   ],
   "source": [
    "def my_filter(func,lst):\n",
    "    result = []\n",
    "    for item in lst:\n",
    "        if func(item):\n",
    "            result.append(item)\n",
    "            \n",
    "lst= [2,3,4,5,8,67,54] \n",
    "def even_number(lst):\n",
    "    \n",
    "    if lst % 2 == 0: \n",
    "        print(lst)\n",
    "        \n",
    "my_filter(even_number,lst)\n",
    "          "
   ]
  },
  {
   "cell_type": "markdown",
   "metadata": {},
   "source": [
    "2.Implement List comprehensions to produce the following lists. \n",
    " \n",
    "Write List comprehensions to produce the following Lists \n",
    " \n",
    "['A', 'C', 'A', 'D', 'G', 'I', ’L’, ‘ D’] \n",
    " \n",
    "['x', 'xx', 'xxx', 'xxxx', 'y', 'yy', 'yyy', 'yyyy', 'z', 'zz', 'zzz', 'zzzz']  \n",
    "['x', 'y', 'z', 'xx', 'yy', 'zz', 'xx', 'yy', 'zz', 'xxxx', 'yyyy', 'zzzz'] \n",
    " \n",
    "[[2], [3], [4], [3], [4], [5], [4], [5], [6]]  \n",
    "[[2, 3, 4, 5], [3, 4, 5, 6], [4, 5, 6, 7], [5, 6, 7, 8]] \n",
    " \n",
    "[(1, 1), (2, 1), (3, 1), (1, 2), (2, 2), (3, 2), (1, 3), (2, 3), (3, 3)] \n",
    " \n",
    "\n",
    "          "
   ]
  },
  {
   "cell_type": "code",
   "execution_count": 4,
   "metadata": {},
   "outputs": [
    {
     "name": "stdout",
     "output_type": "stream",
     "text": [
      "['x', 'xx', 'xxx', 'xxxx', 'y', 'yy', 'yyy', 'yyyy', 'z', 'zz', 'zzz', 'zzzz']\n",
      "['x', 'y', 'z', 'xx', 'yy', 'zz', 'xxx', 'yyy', 'zzz', 'xxxx', 'yyyy', 'zzzz']\n",
      "[[2], [3], [4], [3], [4], [5], [4], [5], [6]]\n",
      "[[2, 3, 4, 5], [3, 4, 5, 6], [4, 5, 6, 7], [5, 6, 7, 8]]\n",
      "[(1, 1), (2, 1), (3, 1), (1, 2), (2, 2), (3, 2), (1, 3), (2, 3), (3, 3)]\n"
     ]
    }
   ],
   "source": [
    "string='xyz'\n",
    "lst=[j*i for j in string for i in range(1,5)]\n",
    "print(lst)\n",
    "\n",
    "next_lst=[j*i for i in range(1,5) for j in string]\n",
    "print(next_lst)\n",
    "\n",
    "matrix=[[2,3,4],[3,4,5],[4,5,6]]\n",
    "l_matrix=[[val]for sublist in matrix for val in sublist]\n",
    "print(l_matrix)\n",
    "\n",
    "f_list=[[i,i+1,i+2,i+3]for i in range(2,6)]\n",
    "print(f_list)\n",
    "\n",
    "tup_list=[(j,i)for i in range(1,4)for j in range(1,4)]\n",
    "print(tup_list)\n"
   ]
  },
  {
   "cell_type": "markdown",
   "metadata": {},
   "source": [
    "# Task-2"
   ]
  },
  {
   "cell_type": "markdown",
   "metadata": {},
   "source": [
    "1.1 Write a Python Program(with class concepts) to find the area of the triangle using the below formula.\n",
    "\n",
    "area = (s(s-a)(s-b)(s-c)) * 0.5\n",
    "\n",
    "Function to take the length of the sides of triangle from user should be defined in the parent class and function tocalculate the area should be defined in subclass."
   ]
  },
  {
   "cell_type": "code",
   "execution_count": 6,
   "metadata": {},
   "outputs": [
    {
     "name": "stdout",
     "output_type": "stream",
     "text": [
      "enter the three sides of trangle 12 34 45\n",
      "[12, 34, 45]\n",
      "s is 45.50\n",
      " area is 93.62\n",
      "93.6185745458667\n"
     ]
    }
   ],
   "source": [
    "class triangle:\n",
    "    def __init__(self):\n",
    "        lst=list(map(int,input(\"enter the three sides of trangle \").split()))\n",
    "        print(lst)\n",
    "        self.a=lst[0]\n",
    "        self.b=lst[1]\n",
    "        self.c=lst[2]\n",
    "        \n",
    "class area(triangle):\n",
    "    def __init__(self,*args):\n",
    "        super(area,self).__init__(*args)\n",
    "    def getarea(self):\n",
    "        s=(self.a+self.b+self.c)/2\n",
    "        print(\"s is %0.2f\" %s)\n",
    "        area=(s*(s-self.a)*(s-self.b)*(s-self.c))**0.5\n",
    "        print (\" area is %0.2f\"% area)\n",
    "        return area\n",
    "test=area()\n",
    "print(test.getarea())"
   ]
  },
  {
   "cell_type": "markdown",
   "metadata": {},
   "source": [
    "1.2 Write a function filter_long_words() that takes a list of words and an integer n and returns the list of words that are longer than n."
   ]
  },
  {
   "cell_type": "code",
   "execution_count": 7,
   "metadata": {},
   "outputs": [
    {
     "name": "stdout",
     "output_type": "stream",
     "text": [
      "['kshitiz', 'upendra']\n"
     ]
    }
   ],
   "source": [
    "def filter_long_words(l_words,n):\n",
    "    if not all(type(ip) == str for ip in l_words):\n",
    "        print(\"Invalid input.All the input in list are not string s\")\n",
    "        return None\n",
    "    result=[lst for lst in l_words if len(lst)>n]\n",
    "    return result\n",
    "lst=[\"rahul\",\"kshitiz\",\"upendra\",\"ram\"]\n",
    "n= 5\n",
    "print(filter_long_words(lst,n))"
   ]
  },
  {
   "cell_type": "markdown",
   "metadata": {},
   "source": [
    "2.1 Write a Python program using function concept that maps list of words into a list of integers representing the lengths of the corresponding words.\n",
    "\n",
    "Hint: If a list [ ab,cde,erty] is passed on to the python function output should come as [2,3,4]\n",
    "\n",
    "Here 2,3 and 4 are the lengths of the words in the list."
   ]
  },
  {
   "cell_type": "code",
   "execution_count": 8,
   "metadata": {},
   "outputs": [
    {
     "name": "stdout",
     "output_type": "stream",
     "text": [
      "[5, 6]\n"
     ]
    }
   ],
   "source": [
    "def map_len_of_words(l_words):\n",
    "    if not all(type(ip)==str for ip in l_words):\n",
    "        print(\"Invalid input.All the input in list are not strings\")\n",
    "        return None\n",
    "    return[len(lst)for lst in l_words]\n",
    "lst=[\"bobby\",\"deepak\"]\n",
    "print(map_len_of_words(lst))"
   ]
  },
  {
   "cell_type": "markdown",
   "metadata": {},
   "source": [
    "2.2 Write a Python function which takes a character (i.e. a string of length 1) and returns True if it is a vowel, False otherwise."
   ]
  },
  {
   "cell_type": "code",
   "execution_count": 9,
   "metadata": {},
   "outputs": [
    {
     "name": "stdout",
     "output_type": "stream",
     "text": [
      "False\n",
      "True\n"
     ]
    }
   ],
   "source": [
    "def is_vowel(ch):\n",
    "    vowel=['a','e','i','o','u']\n",
    "    if type(ch)==str and len(ch)==1 and ch in vowel:\n",
    "        return True\n",
    "    else:\n",
    "        return False\n",
    "print(is_vowel('rahul'))\n",
    "print(is_vowel('a'))"
   ]
  },
  {
   "cell_type": "code",
   "execution_count": null,
   "metadata": {},
   "outputs": [],
   "source": []
  }
 ],
 "metadata": {
  "kernelspec": {
   "display_name": "Python 3",
   "language": "python",
   "name": "python3"
  },
  "language_info": {
   "codemirror_mode": {
    "name": "ipython",
    "version": 3
   },
   "file_extension": ".py",
   "mimetype": "text/x-python",
   "name": "python",
   "nbconvert_exporter": "python",
   "pygments_lexer": "ipython3",
   "version": "3.7.6"
  }
 },
 "nbformat": 4,
 "nbformat_minor": 4
}
